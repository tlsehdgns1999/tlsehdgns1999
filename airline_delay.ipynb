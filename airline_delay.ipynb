{
  "nbformat": 4,
  "nbformat_minor": 0,
  "metadata": {
    "colab": {
      "private_outputs": true,
      "provenance": [],
      "mount_file_id": "1hcfUHvqh-l6MwbpjB2hTTxrNgv2h3ABM",
      "authorship_tag": "ABX9TyPwHah+3cLGkOzHjCHZbgca",
      "include_colab_link": true
    },
    "kernelspec": {
      "name": "python3",
      "display_name": "Python 3"
    },
    "language_info": {
      "name": "python"
    }
  },
  "cells": [
    {
      "cell_type": "markdown",
      "metadata": {
        "id": "view-in-github",
        "colab_type": "text"
      },
      "source": [
        "<a href=\"https://colab.research.google.com/github/tlsehdgns1999/tlsehdgns1999/blob/main/airline_delay.ipynb\" target=\"_parent\"><img src=\"https://colab.research.google.com/assets/colab-badge.svg\" alt=\"Open In Colab\"/></a>"
      ]
    },
    {
      "cell_type": "code",
      "execution_count": null,
      "metadata": {
        "id": "kpCjB6xSmOHK"
      },
      "outputs": [],
      "source": [
        "### 필요 모듈 불러오기\n",
        "\n",
        "import pandas as pd\n",
        "import numpy as np\n",
        "import os\n",
        "import gc\n",
        "\n",
        "### 베이스 라인 코드를 빌려옴(실행속도 향상)\n",
        "\n",
        "def csv_to_parquet(csv_path, save_name):\n",
        "     df = pd.read_csv(csv_path)\n",
        "     df.to_parquet(f'./{save_name}.parquet')\n",
        "     del df\n",
        "     gc.collect()\n",
        "     print(save_name, 'Done.')\n",
        "\n",
        "train_path = '/content/drive/MyDrive/Colab Notebooks/dakondata/train.csv'\n",
        "test_path = '/content/drive/MyDrive/Colab Notebooks/dakondata/test.csv'\n",
        "\n",
        "csv_to_parquet(train_path, 'train')\n",
        "csv_to_parquet(test_path, 'test')\n",
        "\n",
        "train = pd.read_parquet('train.parquet')\n",
        "test = pd.read_parquet('test.parquet')\n",
        "sample_submission = pd.read_csv('/content/drive/MyDrive/Colab Notebooks/dakondata/sample_submission.csv', index_col = 0)\n",
        "\n",
        "### 월일을 한 가지의 days 컬럼으로 합치는 과정 (train, test 적용)\n",
        "\n",
        "def days(x) :\n",
        "    month_days = {1:0, 2:31, 3:60, 4:91, 5:121, 6:152, 7:182, 8:213, 9:244, 10:274, 11:305, 12:335}\n",
        "    return month_days[x]\n",
        "\n",
        "df_list = [train, test]\n",
        "for i in range(len(df_list)) :\n",
        "    df_list[i].loc[:, 'Day'] = train['Month'].apply(lambda x : days(x))\n",
        "    df_list[i]['Day'] = df_list[i]['Day'] + df_list[i]['Day_of_Month']\n",
        "\n",
        "train = train.astype({'Day': object})\n",
        "test = test.astype({'Day': object})\n",
        "\n",
        "### 'Month', 'Data' 컬럼 제거\n",
        "\n",
        "train_new = train.drop([train.columns[1], train.columns[2]], axis = 1)\n",
        "test_new = test.drop([test.columns[1], test.columns[2]], axis = 1)"
      ]
    },
    {
      "cell_type": "code",
      "source": [
        "### 'Carrier_ID(DOT)' 는 'Airline'에 일대일 대응되는 지표이다. \n",
        "### 일대일 대응 되는 지표가 있으면 대체 하는 과정 \n",
        "\n",
        "carrier_code_mapping = train_new.groupby('Airline')['Carrier_ID(DOT)'].apply(lambda x: x.mode().iloc[0])\n",
        "train_new['Carrier_ID(DOT)'] = train_new['Carrier_ID(DOT)'].fillna(train_new['Airline'].map(carrier_code_mapping))"
      ],
      "metadata": {
        "id": "yFx5F3wNwcSa"
      },
      "execution_count": null,
      "outputs": []
    },
    {
      "cell_type": "code",
      "source": [
        "airline_code_mapping = train_new.groupby('Carrier_ID(DOT)')['Airline'].apply(lambda x: x.mode().iloc[0])\n",
        "train_new['Airline'] = train_new['Airline'].fillna(train_new['Carrier_ID(DOT)'].map(airline_code_mapping))"
      ],
      "metadata": {
        "id": "cs7PlhnMpiGC"
      },
      "execution_count": null,
      "outputs": []
    },
    {
      "cell_type": "code",
      "source": [
        "### 대응 후 남은 'Carrier_ID(DOT)', 'Airline' 의 결측치 \n",
        "\n",
        "train_new.isnull().sum()"
      ],
      "metadata": {
        "id": "llyPJ_QYmjEv"
      },
      "execution_count": null,
      "outputs": []
    },
    {
      "cell_type": "code",
      "source": [
        "### train set 이므로 남는 결측치는 전부 제거\n",
        "\n",
        "train_new = train_new.dropna(subset = ['Carrier_ID(DOT)'], how='any', axis = 0)"
      ],
      "metadata": {
        "id": "xcoLYhZkmsI5"
      },
      "execution_count": null,
      "outputs": []
    },
    {
      "cell_type": "code",
      "source": [
        "train_new.isnull().sum()"
      ],
      "metadata": {
        "id": "u5Xtf95Nm4WS"
      },
      "execution_count": null,
      "outputs": []
    },
    {
      "cell_type": "code",
      "source": [
        "### test도 같은 방식으로 진행, 하지만 없어지는 행이 없어야 하기 때문에 최빈값으로 대체하는 작업 필요\n",
        "\n",
        "carrier_code_mapping2 = test_new.groupby('Airline')['Carrier_ID(DOT)'].apply(lambda x: x.mode().iloc[0])\n",
        "test_new['Carrier_ID(DOT)'] = test_new['Carrier_ID(DOT)'].fillna(test_new['Airline'].map(carrier_code_mapping2))"
      ],
      "metadata": {
        "id": "DYhwp9m8nRa7"
      },
      "execution_count": null,
      "outputs": []
    },
    {
      "cell_type": "code",
      "source": [
        "airline_code_mapping2 = test_new.groupby('Carrier_ID(DOT)')['Airline'].apply(lambda x: x.mode().iloc[0])\n",
        "test_new['Airline'] = test_new['Airline'].fillna(test_new['Carrier_ID(DOT)'].map(airline_code_mapping2))"
      ],
      "metadata": {
        "id": "jRaax3Nnqtps"
      },
      "execution_count": null,
      "outputs": []
    },
    {
      "cell_type": "code",
      "source": [
        "test_new.isnull().sum()"
      ],
      "metadata": {
        "id": "2svBrjednm8e"
      },
      "execution_count": null,
      "outputs": []
    },
    {
      "cell_type": "code",
      "source": [
        "from scipy.stats import mode\n",
        "\n",
        "# 결측치 대체할 최빈값 계산\n",
        "mode_value = test_new['Carrier_ID(DOT)'].mode().iloc[0]\n",
        "test_new['Carrier_ID(DOT)'] = test_new['Carrier_ID(DOT)'].fillna(mode_value)\n",
        "\n",
        "mode_value = test_new['Airline'].mode().iloc[0]\n",
        "test_new['Airline'] = test_new['Airline'].fillna(mode_value)"
      ],
      "metadata": {
        "id": "JQqLJQTQodXE"
      },
      "execution_count": null,
      "outputs": []
    },
    {
      "cell_type": "code",
      "source": [
        "test_new.isnull().sum()"
      ],
      "metadata": {
        "id": "VNbyk6PWo8Mj"
      },
      "execution_count": null,
      "outputs": []
    },
    {
      "cell_type": "code",
      "source": [
        "### 남는 열 제거(중복사항)\n",
        "\n",
        "col_drop = ['Cancelled', 'Diverted', 'Origin_Airport', 'Destination_Airport', 'Carrier_Code(IATA)', 'Airline', 'Origin_State', 'Destination_State']\n",
        "train_new = train_new.drop(col_drop, axis=1)\n",
        "test_new = test_new.drop(col_drop, axis=1)"
      ],
      "metadata": {
        "id": "xrWRW1hNpCLm"
      },
      "execution_count": null,
      "outputs": []
    },
    {
      "cell_type": "code",
      "source": [
        "train_new.info()"
      ],
      "metadata": {
        "id": "iijJbYfKrtCT"
      },
      "execution_count": null,
      "outputs": []
    },
    {
      "cell_type": "code",
      "source": [
        "test_new.info()"
      ],
      "metadata": {
        "id": "TmLH-1JCrvCL"
      },
      "execution_count": null,
      "outputs": []
    },
    {
      "cell_type": "code",
      "source": [
        "train_new.head()"
      ],
      "metadata": {
        "id": "zk9ZcwW0uTue"
      },
      "execution_count": null,
      "outputs": []
    },
    {
      "cell_type": "code",
      "source": [
        "### 이 작업은 대강의 분 차이를 이용해 출발 또는 도착의 시간을 예상해 결측치를 채워넣는 방법이다.\n",
        "\n",
        "### 먼저 'HHMM' 를 분으로 변환\n",
        "\n",
        "def con_to_minutes(x):\n",
        "    if x == '':\n",
        "        return np.nan\n",
        "    else:\n",
        "        x = int(x)\n",
        "        x = str(x)\n",
        "        if len(x) > 2:\n",
        "            # 시간과 분으로 나눔\n",
        "            hours = int(x[:-2])\n",
        "            mins = int(x[-2:])\n",
        "        else:\n",
        "            hours = 0\n",
        "            mins = int(x[-2:])\n",
        "        return hours * 60 + mins\n",
        "\n",
        "### 'Estimated_Departure_Time' 열의 값을 분으로 변환\n",
        "\n",
        "train_new['Estimated_Departure_Time'] = train_new['Estimated_Departure_Time'].apply(con_to_minutes)\n",
        "\n",
        "### 'Estimated_Arrival_Time' 열의 값을 분으로 변환\n",
        "\n",
        "train_new['Estimated_Arrival_Time'] = train_new['Estimated_Arrival_Time'].apply(con_to_minutes)"
      ],
      "metadata": {
        "id": "7TbPJWY4ryqo"
      },
      "execution_count": null,
      "outputs": []
    },
    {
      "cell_type": "code",
      "source": [
        "train_new.head()"
      ],
      "metadata": {
        "id": "-uDjUfZ8s0Cq"
      },
      "execution_count": null,
      "outputs": []
    },
    {
      "cell_type": "code",
      "source": [],
      "metadata": {
        "id": "HLedaMZFvKMc"
      },
      "execution_count": null,
      "outputs": []
    }
  ]
}