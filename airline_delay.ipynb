{
  "nbformat": 4,
  "nbformat_minor": 0,
  "metadata": {
    "colab": {
      "private_outputs": true,
      "provenance": [],
      "mount_file_id": "1hcfUHvqh-l6MwbpjB2hTTxrNgv2h3ABM",
      "authorship_tag": "ABX9TyMQ+4IOJ7mkd0vywyNmgWjn",
      "include_colab_link": true
    },
    "kernelspec": {
      "name": "python3",
      "display_name": "Python 3"
    },
    "language_info": {
      "name": "python"
    }
  },
  "cells": [
    {
      "cell_type": "markdown",
      "metadata": {
        "id": "view-in-github",
        "colab_type": "text"
      },
      "source": [
        "<a href=\"https://colab.research.google.com/github/tlsehdgns1999/tlsehdgns1999/blob/main/airline_delay.ipynb\" target=\"_parent\"><img src=\"https://colab.research.google.com/assets/colab-badge.svg\" alt=\"Open In Colab\"/></a>"
      ]
    },
    {
      "cell_type": "code",
      "execution_count": null,
      "metadata": {
        "id": "kpCjB6xSmOHK"
      },
      "outputs": [],
      "source": [
        "### 필요 모듈 불러오기\n",
        "\n",
        "import pandas as pd\n",
        "import numpy as np\n",
        "import os\n",
        "import gc"
      ]
    },
    {
      "cell_type": "code",
      "source": [
        "### 베이스 라인 코드를 빌려옴(실행속도 향상)\n",
        "\n",
        "def csv_to_parquet(csv_path, save_name):\n",
        "     df = pd.read_csv(csv_path)\n",
        "     df.to_parquet(f'./{save_name}.parquet')\n",
        "     del df\n",
        "     gc.collect()\n",
        "     print(save_name, 'Done.')\n",
        "\n",
        "train_path = '/content/drive/MyDrive/Colab Notebooks/dakondata/train.csv'\n",
        "test_path = '/content/drive/MyDrive/Colab Notebooks/dakondata/test.csv'\n",
        "\n",
        "csv_to_parquet(train_path, 'train')\n",
        "csv_to_parquet(test_path, 'test')\n",
        "\n",
        "train = pd.read_parquet('train.parquet')\n",
        "test = pd.read_parquet('test.parquet')\n",
        "sample_submission = pd.read_csv('/content/drive/MyDrive/Colab Notebooks/dakondata/sample_submission.csv', index_col = 0)"
      ],
      "metadata": {
        "id": "ALMPmOcsuEUK"
      },
      "execution_count": null,
      "outputs": []
    },
    {
      "cell_type": "code",
      "source": [
        "### Month 와 Date를 한 가지의 days 컬럼으로 합치는 과정 (train, test 적용)\n",
        "\n",
        "def days(x) :\n",
        "    month_days = {1:0, 2:31, 3:60, 4:91, 5:121, 6:152, 7:182, 8:213, 9:244, 10:274, 11:305, 12:335}\n",
        "    return month_days[x]\n",
        "\n",
        "df_list = [train, test]\n",
        "for i in range(len(df_list)) :\n",
        "    df_list[i].loc[:, 'Day'] = train['Month'].apply(lambda x : days(x))\n",
        "    df_list[i]['Day'] = df_list[i]['Day'] + df_list[i]['Day_of_Month']\n",
        "\n",
        "train = train.astype({'Day': object})\n",
        "test = test.astype({'Day': object})\n",
        "\n",
        "### 'Month', 'Date' 컬럼 제거\n",
        "\n",
        "train_new = train.drop([train.columns[1], train.columns[2]], axis = 1)\n",
        "test_new = test.drop([test.columns[1], test.columns[2]], axis = 1)"
      ],
      "metadata": {
        "id": "MoH_HbVAuG-Z"
      },
      "execution_count": null,
      "outputs": []
    },
    {
      "cell_type": "code",
      "source": [
        "### 'Carrier_ID(DOT)' 는 'Airline'에 일대일 대응되는 지표이다. \n",
        "### 일대일 대응 되는 지표가 있으면 대체 하는 과정 \n",
        "\n",
        "carrier_code_mapping = train_new.groupby('Airline')['Carrier_ID(DOT)'].apply(lambda x: x.mode().iloc[0])\n",
        "train_new['Carrier_ID(DOT)'] = train_new['Carrier_ID(DOT)'].fillna(train_new['Airline'].map(carrier_code_mapping))"
      ],
      "metadata": {
        "id": "yFx5F3wNwcSa"
      },
      "execution_count": null,
      "outputs": []
    },
    {
      "cell_type": "code",
      "source": [
        "airline_code_mapping = train_new.groupby('Carrier_ID(DOT)')['Airline'].apply(lambda x: x.mode().iloc[0])\n",
        "train_new['Airline'] = train_new['Airline'].fillna(train_new['Carrier_ID(DOT)'].map(airline_code_mapping))"
      ],
      "metadata": {
        "id": "cs7PlhnMpiGC"
      },
      "execution_count": null,
      "outputs": []
    },
    {
      "cell_type": "code",
      "source": [
        "### 대응 후 남은 'Carrier_ID(DOT)', 'Airline' 의 결측치 \n",
        "\n",
        "train_new.isnull().sum()"
      ],
      "metadata": {
        "id": "llyPJ_QYmjEv"
      },
      "execution_count": null,
      "outputs": []
    },
    {
      "cell_type": "code",
      "source": [
        "### train set 이므로 남는 결측치는 전부 제거\n",
        "\n",
        "train_new = train_new.dropna(subset = ['Carrier_ID(DOT)'], how='any', axis = 0)"
      ],
      "metadata": {
        "id": "xcoLYhZkmsI5"
      },
      "execution_count": null,
      "outputs": []
    },
    {
      "cell_type": "code",
      "source": [
        "train_new.isnull().sum()"
      ],
      "metadata": {
        "id": "u5Xtf95Nm4WS"
      },
      "execution_count": null,
      "outputs": []
    },
    {
      "cell_type": "code",
      "source": [
        "### test도 같은 방식으로 진행, 하지만 없어지는 행이 없어야 하기 때문에 최빈값으로 대체하는 작업 필요\n",
        "\n",
        "carrier_code_mapping2 = test_new.groupby('Airline')['Carrier_ID(DOT)'].apply(lambda x: x.mode().iloc[0])\n",
        "test_new['Carrier_ID(DOT)'] = test_new['Carrier_ID(DOT)'].fillna(test_new['Airline'].map(carrier_code_mapping2))"
      ],
      "metadata": {
        "id": "DYhwp9m8nRa7"
      },
      "execution_count": null,
      "outputs": []
    },
    {
      "cell_type": "code",
      "source": [
        "airline_code_mapping2 = test_new.groupby('Carrier_ID(DOT)')['Airline'].apply(lambda x: x.mode().iloc[0])\n",
        "test_new['Airline'] = test_new['Airline'].fillna(test_new['Carrier_ID(DOT)'].map(airline_code_mapping2))"
      ],
      "metadata": {
        "id": "jRaax3Nnqtps"
      },
      "execution_count": null,
      "outputs": []
    },
    {
      "cell_type": "code",
      "source": [
        "test_new.isnull().sum()"
      ],
      "metadata": {
        "id": "2svBrjednm8e"
      },
      "execution_count": null,
      "outputs": []
    },
    {
      "cell_type": "code",
      "source": [
        "from scipy.stats import mode\n",
        "\n",
        "### 결측치 대체할 최빈값 계산\n",
        "mode_value = test_new['Carrier_ID(DOT)'].mode().iloc[0]\n",
        "test_new['Carrier_ID(DOT)'] = test_new['Carrier_ID(DOT)'].fillna(mode_value)\n",
        "\n",
        "mode_value = test_new['Airline'].mode().iloc[0]\n",
        "test_new['Airline'] = test_new['Airline'].fillna(mode_value)"
      ],
      "metadata": {
        "id": "JQqLJQTQodXE"
      },
      "execution_count": null,
      "outputs": []
    },
    {
      "cell_type": "code",
      "source": [
        "test_new.isnull().sum()"
      ],
      "metadata": {
        "id": "VNbyk6PWo8Mj"
      },
      "execution_count": null,
      "outputs": []
    },
    {
      "cell_type": "code",
      "source": [
        "### 남는 열 제거(중복사항)\n",
        "\n",
        "col_drop = ['Cancelled', 'Diverted', 'Origin_Airport', 'Destination_Airport', 'Carrier_Code(IATA)', 'Airline', 'Origin_State', 'Destination_State']\n",
        "train_new = train_new.drop(col_drop, axis=1)\n",
        "test_new = test_new.drop(col_drop, axis=1)"
      ],
      "metadata": {
        "id": "xrWRW1hNpCLm"
      },
      "execution_count": null,
      "outputs": []
    },
    {
      "cell_type": "code",
      "source": [
        "train_new.info()"
      ],
      "metadata": {
        "id": "iijJbYfKrtCT"
      },
      "execution_count": null,
      "outputs": []
    },
    {
      "cell_type": "code",
      "source": [
        "test_new.info()"
      ],
      "metadata": {
        "id": "TmLH-1JCrvCL"
      },
      "execution_count": null,
      "outputs": []
    },
    {
      "cell_type": "code",
      "source": [
        "train_new.head()"
      ],
      "metadata": {
        "id": "zk9ZcwW0uTue"
      },
      "execution_count": null,
      "outputs": []
    },
    {
      "cell_type": "code",
      "source": [
        "### 이 작업은 대강의 분 차이를 이용해 출발 또는 도착의 시간을 예상해 결측치를 채워넣는 방법이다.\n",
        "\n",
        "### 먼저 'HHMM' 를 분으로 변환\n",
        "\n",
        "def con_to_minutes(x) :\n",
        "    if np.isnan(x) :\n",
        "        return np.nan\n",
        "    else:\n",
        "        x = int(x)\n",
        "        x = str(x)\n",
        "        if len(x) > 2 :\n",
        "            # 시간과 분으로 나눔\n",
        "            hours = int(x[:-2])\n",
        "            mins = int(x[-2:])\n",
        "        else :\n",
        "            hours = 0\n",
        "            mins = int(x[-2:])\n",
        "        return hours * 60 + mins\n",
        "\n",
        "### 'Estimated_Departure_Time' 열의 값을 분으로 변환\n",
        "\n",
        "train_new['Estimated_Departure_Time'] = train_new['Estimated_Departure_Time'].apply(con_to_minutes)\n",
        "\n",
        "### 'Estimated_Arrival_Time' 열의 값을 분으로 변환\n",
        "\n",
        "train_new['Estimated_Arrival_Time'] = train_new['Estimated_Arrival_Time'].apply(con_to_minutes)"
      ],
      "metadata": {
        "id": "7TbPJWY4ryqo"
      },
      "execution_count": null,
      "outputs": []
    },
    {
      "cell_type": "code",
      "source": [
        "train_new = train_new.dropna(subset = ['Estimated_Arrival_Time', 'Estimated_Departure_Time'], how = 'all', axis = 0)"
      ],
      "metadata": {
        "id": "-uDjUfZ8s0Cq"
      },
      "execution_count": null,
      "outputs": []
    },
    {
      "cell_type": "code",
      "source": [
        "train_new.info()"
      ],
      "metadata": {
        "id": "HLedaMZFvKMc"
      },
      "execution_count": null,
      "outputs": []
    },
    {
      "cell_type": "code",
      "source": [
        "### Origin_Airport_ID와 Destination_Airport_ID를 키로, 평균 비행시간을 값으로 갖는 디렉토리 생성\n",
        "\n",
        "from collections import defaultdict\n",
        "\n",
        "time_flying = defaultdict(int)\n",
        "time_number = defaultdict(int)\n",
        "\n",
        "cond = ~train_new['Estimated_Arrival_Time'].isnull() & ~train_new['Estimated_Departure_Time'].isnull()\n",
        "\n",
        "for _, row in train_new[cond].iterrows():\n",
        "    origin, dest = row['Origin_Airport_ID'], row['Destination_Airport_ID']\n",
        "    flying_time = (row['Estimated_Arrival_Time'] - row['Estimated_Departure_Time']) % 1440\n",
        "    time_flying[(origin, dest)] += flying_time\n",
        "    time_number[(origin, dest)] += 1\n",
        "\n",
        "for key in time_flying:\n",
        "    time_flying[key] /= time_number[key]"
      ],
      "metadata": {
        "id": "TmOfvMdGksv1"
      },
      "execution_count": null,
      "outputs": []
    },
    {
      "cell_type": "code",
      "source": [
        "### 결측값 채우기\n",
        "\n",
        "for idx, row in train_new[train_new['Origin_Airport_ID'].isnull() | train_new['Destination_Airport_ID'].isnull()].iterrows():\n",
        "    origin, dest = row['Origin_Airport_ID'], row['Destination_Airport_ID']\n",
        "    if origin in time_flying and not pd.isnull(origin):\n",
        "        train_new.at[idx, 'Origin_Airport_ID'] = origin\n",
        "    if dest in time_flying and not pd.isnull(dest):\n",
        "        train_new.loc[idx, 'Destination_Airport_ID'] = dest\n",
        "        train_new.loc[idx, 'Flying_Time'] = time_flying[(origin, dest)]"
      ],
      "metadata": {
        "id": "ZMrOza3FmppK"
      },
      "execution_count": null,
      "outputs": []
    },
    {
      "cell_type": "code",
      "source": [
        "### Estimated_Arrival_Time - Estimated_Departure_Time 을 계산해 같은 출발, 도착지를 갖는 행의 결측치를 채움\n",
        "\n",
        "mask_dep = train_new['Estimated_Departure_Time'].isnull()\n",
        "mask_arr = train_new['Estimated_Arrival_Time'].isnull()\n",
        "\n",
        "train_new.loc[mask_dep, 'Estimated_Departure_Time'] = train_new.loc[mask_dep].apply(lambda row: (row['Estimated_Arrival_Time'] - time_flying[(row['Origin_Airport_ID'], row['Destination_Airport_ID'])]) % 1440, axis=1)\n",
        "train_new.loc[mask_arr, 'Estimated_Arrival_Time'] = train_new.loc[mask_arr].apply(lambda row: (row['Estimated_Departure_Time'] + time_flying[(row['Origin_Airport_ID'], row['Destination_Airport_ID'])]) % 1440, axis=1)\n"
      ],
      "metadata": {
        "id": "FK6eLQNCpbhl"
      },
      "execution_count": null,
      "outputs": []
    },
    {
      "cell_type": "code",
      "source": [
        "### test의 결측치를 최빈값으로 대체\n",
        "\n",
        "mode_dep = test_new['Estimated_Departure_Time'].mode().iloc[0]\n",
        "mode_arr = test_new['Estimated_Arrival_Time'].mode().iloc[0]\n",
        "\n",
        "test_new['Estimated_Departure_Time'].fillna(mode_dep, inplace=True)\n",
        "test_new['Estimated_Arrival_Time'].fillna(mode_arr, inplace=True)"
      ],
      "metadata": {
        "id": "lyKw4MfUs1e6"
      },
      "execution_count": null,
      "outputs": []
    },
    {
      "cell_type": "code",
      "source": [
        "### Dealy 의 NaN 값 제거 (라벨링 된 데이터로만 추론 진행)\n",
        "\n",
        "train_new = train_new.dropna()"
      ],
      "metadata": {
        "id": "p5R0logHHnkr"
      },
      "execution_count": null,
      "outputs": []
    },
    {
      "cell_type": "code",
      "source": [
        "### Delayed, Not_Delayed 를 0, 1 로 카테고리 화, astype을 쓰지 않은 이유는 변환을 명확히 하기 위함\n",
        "\n",
        "train_new['Delay'] = train_new['Delay'].replace('Delayed', 1)\n",
        "train_new['Delay'] = train_new['Delay'].replace('Not_Delayed', 0)"
      ],
      "metadata": {
        "id": "WKC5vBtMIvs5"
      },
      "execution_count": null,
      "outputs": []
    },
    {
      "cell_type": "code",
      "source": [
        "### test셋에 비해 train셋의 양이 현저히 적어졌으므로 validation셋을 생성\n",
        "\n",
        "from sklearn.model_selection import train_test_split\n",
        "\n",
        "\n",
        "X = train_new.drop(columns=['ID', 'Delay'], axis = 1)\n",
        "y = train_new['Delay']\n",
        "test_val = test_new.drop(columns=['ID'])\n",
        "X_train, X_valid , y_train, y_valid = train_test_split(X, y, test_size = 0.2, stratify = y)"
      ],
      "metadata": {
        "id": "H_EuORzfBevk"
      },
      "execution_count": null,
      "outputs": []
    },
    {
      "cell_type": "code",
      "source": [
        "### xgb 학습을 위해 질적 변수를 양적 변수로 변환함\n",
        "\n",
        "from sklearn.preprocessing import LabelEncoder\n",
        "from xgboost import XGBClassifier\n",
        "\n",
        "q_col = ['Tail_Number', 'Day']\n",
        "\n",
        "for i in q_col:\n",
        "    le = LabelEncoder()\n",
        "    le=le.fit(X_train[i])\n",
        "    X_train[i]=le.transform(X_train[i])\n",
        "\n",
        "    for label in np.unique(X_valid[i]):\n",
        "        if label not in le.classes_: \n",
        "            le.classes_ = np.append(le.classes_, label)\n",
        "    X_valid[i]=le.transform(X_valid[i])\n",
        "\n",
        "    for label in np.unique(test_new[i]):\n",
        "        if label not in le.classes_: \n",
        "            le.classes_ = np.append(le.classes_, label)\n",
        "    test_new[i]=le.transform(test_new[i])\n",
        "print('Done.')"
      ],
      "metadata": {
        "id": "-Sb5YRnqG4fm"
      },
      "execution_count": null,
      "outputs": []
    },
    {
      "cell_type": "code",
      "source": [
        "### 모델링\n",
        "\n",
        "model = XGBClassifier(\n",
        "                      booster = 'gbtree',\n",
        "                      scale_pos_weight=5,\n",
        "                      learning_rate=0.01,  \n",
        "                      colsample_bytree = 0.7,\n",
        "                      subsample = 0.5,\n",
        "                      max_delta_step = 3,\n",
        "                      reg_lambda = 2,\n",
        "                     objective='binary:logistic',\n",
        "                      n_estimators=818, \n",
        "                      max_depth=8,\n",
        "                     )"
      ],
      "metadata": {
        "id": "jRXJnbeQILHE"
      },
      "execution_count": null,
      "outputs": []
    },
    {
      "cell_type": "code",
      "source": [
        "%%time\n",
        "eval_set = [(X_valid, y_valid)]\n",
        "eval_metric = [\"logloss\"]\n",
        "model.fit(X_train, y_train,early_stopping_rounds=50, eval_metric=eval_metric, eval_set = eval_set)"
      ],
      "metadata": {
        "id": "fd3gz5hOIRnJ"
      },
      "execution_count": null,
      "outputs": []
    },
    {
      "cell_type": "code",
      "source": [
        "predictions = model.predict_proba(X_valid)\n",
        "predictions"
      ],
      "metadata": {
        "id": "MijnS-KdIWL7"
      },
      "execution_count": null,
      "outputs": []
    },
    {
      "cell_type": "code",
      "source": [
        "predictions = model.predict_proba(test_new)\n",
        "predictions"
      ],
      "metadata": {
        "id": "hHjAkA3LKft7"
      },
      "execution_count": null,
      "outputs": []
    },
    {
      "cell_type": "code",
      "source": [
        "sample_submission = pd.read_csv('/content/drive/MyDrive/Colab Notebooks/dakondata/sample_submission.csv', index_col = 0)"
      ],
      "metadata": {
        "id": "AJ1aPO8vSskA"
      },
      "execution_count": null,
      "outputs": []
    },
    {
      "cell_type": "code",
      "source": [
        "submission = pd.DataFrame(data=predictions, columns=sample_submission.columns, index=sample_submission.index)"
      ],
      "metadata": {
        "id": "aNS0BsSLKzYK"
      },
      "execution_count": null,
      "outputs": []
    },
    {
      "cell_type": "code",
      "source": [
        "submission.to_csv('/content/drive/MyDrive/Colab Notebooks/dakondata/sample_submission.csv', index=True)"
      ],
      "metadata": {
        "id": "JhxvGbJtS9Ht"
      },
      "execution_count": null,
      "outputs": []
    },
    {
      "cell_type": "code",
      "source": [],
      "metadata": {
        "id": "DOh0ARnCTaTb"
      },
      "execution_count": null,
      "outputs": []
    }
  ]
}