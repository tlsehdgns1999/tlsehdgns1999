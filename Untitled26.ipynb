{
  "nbformat": 4,
  "nbformat_minor": 0,
  "metadata": {
    "colab": {
      "provenance": [],
      "authorship_tag": "ABX9TyP2ZAUBcanpUtjYIjaan8Ek",
      "include_colab_link": true
    },
    "kernelspec": {
      "name": "python3",
      "display_name": "Python 3"
    },
    "language_info": {
      "name": "python"
    }
  },
  "cells": [
    {
      "cell_type": "markdown",
      "metadata": {
        "id": "view-in-github",
        "colab_type": "text"
      },
      "source": [
        "<a href=\"https://colab.research.google.com/github/tlsehdgns1999/tlsehdgns1999/blob/main/Untitled26.ipynb\" target=\"_parent\"><img src=\"https://colab.research.google.com/assets/colab-badge.svg\" alt=\"Open In Colab\"/></a>"
      ]
    },
    {
      "cell_type": "code",
      "execution_count": 1,
      "metadata": {
        "id": "sdfRb6kAQCms"
      },
      "outputs": [],
      "source": [
        "import random\n",
        "import os\n",
        "import pandas as pd\n",
        "import numpy as np\n",
        "from tqdm.auto import tqdm\n",
        "from sklearn.preprocessing import LabelEncoder\n",
        "import tensorflow as tf\n",
        "from tensorflow.keras.layers import Input, LSTM, Dense, Dropout, ReLU\n",
        "from tensorflow.keras.models import Model"
      ]
    },
    {
      "cell_type": "code",
      "source": [
        "random.seed(1234)\n",
        "np.random.seed(1234)\n",
        "tf.random.set_seed(1234)"
      ],
      "metadata": {
        "id": "C44FjFUiQNcc"
      },
      "execution_count": 2,
      "outputs": []
    },
    {
      "cell_type": "code",
      "source": [
        "CFG = {\n",
        "    'TRAIN_WINDOW_SIZE': 7,\n",
        "    'PREDICT_SIZE': 21,\n",
        "    'EPOCHS': 10,\n",
        "    'LEARNING_RATE': 1e-4,\n",
        "    'BATCH_SIZE': 4096,\n",
        "    'SEED': 1234\n",
        "}"
      ],
      "metadata": {
        "id": "tYFObcJ4QPD1"
      },
      "execution_count": 3,
      "outputs": []
    },
    {
      "cell_type": "code",
      "source": [
        "def seed_everything(seed):\n",
        "    random.seed(seed)\n",
        "    os.environ['PYTHONHASHSEED'] = str(seed)\n",
        "    np.random.seed(seed)\n",
        "    tf.random.set_seed(seed)"
      ],
      "metadata": {
        "id": "tXFgcLlHQSG6"
      },
      "execution_count": 4,
      "outputs": []
    },
    {
      "cell_type": "code",
      "source": [
        "seed_everything(CFG['SEED'])"
      ],
      "metadata": {
        "id": "vKLcSt8-QTpN"
      },
      "execution_count": 5,
      "outputs": []
    },
    {
      "cell_type": "code",
      "source": [
        "train_data = pd.read_csv('./Desktop/open/train.csv').drop(columns=['ID', '제품'])"
      ],
      "metadata": {
        "id": "6RBRk_IqQUo0"
      },
      "execution_count": 6,
      "outputs": []
    },
    {
      "cell_type": "code",
      "source": [
        "scale_max_dict = {}\n",
        "scale_min_dict = {}"
      ],
      "metadata": {
        "id": "i2OEcJL0QYf2"
      },
      "execution_count": 7,
      "outputs": []
    },
    {
      "cell_type": "code",
      "source": [
        "def scale_data(data):\n",
        "    max_values = data.iloc[:, 4:].max(axis=1)\n",
        "    min_values = data.iloc[:, 4:].min(axis=1)\n",
        "    is_equal = max_values == min_values\n",
        "\n",
        "    data.iloc[:, 4:] = np.where(is_equal[:, np.newaxis], 0, (data.iloc[:, 4:] - min_values[:, np.newaxis]) / (max_values - min_values)[:, np.newaxis])\n",
        "    return max_values, min_values\n",
        "\n",
        "scale_max_dict, scale_min_dict = scale_data(train_data)"
      ],
      "metadata": {
        "colab": {
          "base_uri": "https://localhost:8080/"
        },
        "id": "n72cqhXYQZ1-",
        "outputId": "192d8f0b-5242-4a79-fe16-94b6d5ee6a1a"
      },
      "execution_count": 8,
      "outputs": [
        {
          "output_type": "stream",
          "name": "stderr",
          "text": [
            "C:\\Users\\butterflywings02\\AppData\\Local\\Temp\\ipykernel_1084\\3225025377.py:6: FutureWarning: Support for multi-dimensional indexing (e.g. `obj[:, None]`) is deprecated and will be removed in a future version.  Convert to a numpy array before indexing instead.\n",
            "  data.iloc[:, 4:] = np.where(is_equal[:, np.newaxis], 0, (data.iloc[:, 4:] - min_values[:, np.newaxis]) / (max_values - min_values)[:, np.newaxis])\n"
          ]
        }
      ]
    },
    {
      "cell_type": "code",
      "source": [
        "label_encoder = LabelEncoder()\n",
        "categorical_columns = ['대분류', '중분류', '소분류', '브랜드']\n",
        "\n",
        "for col in categorical_columns:\n",
        "    label_encoder.fit(train_data[col])\n",
        "    train_data[col] = label_encoder.transform(train_data[col])\n",
        "\n",
        "class CustomDataset:\n",
        "    def __init__(self, data, train_size=CFG['TRAIN_WINDOW_SIZE'], predict_size=CFG['PREDICT_SIZE'], is_inference=False, batch_size=CFG['BATCH_SIZE']):\n",
        "        self.data = data.values\n",
        "        self.train_size = train_size\n",
        "        self.predict_size = predict_size\n",
        "        self.window_size = self.train_size + self.predict_size\n",
        "        self.is_inference = is_inference\n",
        "        self.batch_size = batch_size\n",
        "\n",
        "    def __len__(self):\n",
        "        if self.is_inference:\n",
        "            return len(self.data)\n",
        "        else:\n",
        "            return self.data.shape[0] * (self.data.shape[1] - self.window_size - 3)\n",
        "\n",
        "    def generate_example(self, idx):\n",
        "        if self.is_inference:\n",
        "            encode_info = self.data[idx, :4]\n",
        "            window = self.data[idx, -self.train_size:]\n",
        "            input_data = np.column_stack((np.tile(encode_info, (self.train_size, 1)), window))\n",
        "            return input_data\n",
        "        else:\n",
        "            row = idx // (self.data.shape[1] - self.window_size - 3)\n",
        "            col = idx % (self.data.shape[1] - self.window_size - 3)\n",
        "            encode_info = self.data[row, :4]\n",
        "            sales_data = self.data[row, 4:]\n",
        "            window = sales_data[col: col + self.window_size]\n",
        "            input_data = np.column_stack((np.tile(encode_info, (self.train_size, 1)), window[:self.train_size]))\n",
        "            target_data = window[self.train_size:]\n",
        "            return input_data, target_data\n",
        "\n",
        "    def generator(self):\n",
        "        for idx in range(len(self)):\n",
        "            yield self.generate_example(idx)\n"
      ],
      "metadata": {
        "id": "4z3I7uvTQbDX"
      },
      "execution_count": 9,
      "outputs": []
    },
    {
      "cell_type": "code",
      "source": [
        "dataset = CustomDataset(train_data)\n",
        "total_size = len(dataset)\n",
        "\n",
        "train_size = int(total_size * 0.8)\n",
        "val_size = total_size - train_size\n",
        "\n",
        "train_dataset = tf.data.Dataset.from_generator(\n",
        "    dataset.generator,\n",
        "    output_signature=(\n",
        "        tf.TensorSpec(shape=(CFG['TRAIN_WINDOW_SIZE'], 5), dtype=tf.float64),\n",
        "        tf.TensorSpec(shape=(CFG['PREDICT_SIZE']), dtype=tf.float64)\n",
        "    )\n",
        ").batch(CFG['BATCH_SIZE']).take(train_size)\n",
        "\n",
        "val_dataset = tf.data.Dataset.from_generator(\n",
        "    dataset.generator,\n",
        "    output_signature=(\n",
        "        tf.TensorSpec(shape=(CFG['TRAIN_WINDOW_SIZE'], 5), dtype=tf.float64),\n",
        "        tf.TensorSpec(shape=(CFG['PREDICT_SIZE']), dtype=tf.float64)\n",
        "    )\n",
        ").batch(CFG['BATCH_SIZE']).skip(train_size)"
      ],
      "metadata": {
        "id": "WXgLC5eZQeGk"
      },
      "execution_count": 10,
      "outputs": []
    },
    {
      "cell_type": "code",
      "source": [
        "class BaseModel(tf.keras.Model):\n",
        "    def __init__(self, input_size=5, hidden_size=512, output_size=CFG['PREDICT_SIZE']):\n",
        "        super(BaseModel, self).__init__()\n",
        "        self.hidden_size = hidden_size\n",
        "        self.lstm = LSTM(hidden_size, return_sequences=True)\n",
        "        self.fc = tf.keras.Sequential([\n",
        "            Dense(hidden_size // 2),\n",
        "            ReLU(),\n",
        "            Dropout(0.5),\n",
        "            Dense(output_size)\n",
        "        ])\n",
        "        self.actv = ReLU()\n",
        "\n",
        "    def call(self, x):\n",
        "        batch_size = tf.shape(x)[0]\n",
        "        hidden = self.init_hidden(batch_size)\n",
        "\n",
        "        lstm_out = self.lstm(x, initial_state=hidden)\n",
        "\n",
        "        last_output = lstm_out[:, -1, :]\n",
        "        output = self.actv(self.fc(last_output))\n",
        "\n",
        "        return output\n",
        "\n",
        "    def init_hidden(self, batch_size):\n",
        "        return [tf.zeros((batch_size, self.hidden_size)), tf.zeros((batch_size, self.hidden_size))]\n",
        "\n",
        "def mape_loss(y_true, y_pred):\n",
        "    y_true = tf.cast(y_true, dtype=tf.float64)\n",
        "    y_pred = tf.cast(y_pred, dtype=tf.float64)\n",
        "    return tf.reduce_mean(tf.abs((y_true - y_pred) / y_true)) * 100\n",
        "\n",
        "model = BaseModel()\n",
        "optimizer = tf.keras.optimizers.Adam(learning_rate=CFG['LEARNING_RATE'])"
      ],
      "metadata": {
        "id": "FFMKIAmwSj7Y"
      },
      "execution_count": 11,
      "outputs": []
    },
    {
      "cell_type": "code",
      "source": [
        "from tqdm import tqdm"
      ],
      "metadata": {
        "id": "MdHxhwbMVIFp"
      },
      "execution_count": 12,
      "outputs": []
    },
    {
      "cell_type": "code",
      "source": [
        "def train_step(inputs, targets):\n",
        "    with tf.GradientTape() as tape:\n",
        "        predictions = model(inputs, training=True)\n",
        "        loss = mape_loss(targets, predictions)\n",
        "    gradients = tape.gradient(loss, model.trainable_variables)\n",
        "    optimizer.apply_gradients(zip(gradients, model.trainable_variables))\n",
        "    return loss\n",
        "\n",
        "epochs = CFG['EPOCHS']\n",
        "train_losses = []\n",
        "val_losses = []\n",
        "\n",
        "for epoch in range(1, epochs + 1):\n",
        "    train_loss = 0.0\n",
        "    num_batches = 0\n",
        "    for inputs, targets in tqdm(train_dataset, desc=f'Epoch {epoch}', leave=True):\n",
        "        loss = train_step(inputs, targets)\n",
        "        train_loss += loss\n",
        "        num_batches += 1\n",
        "    train_loss /= num_batches\n",
        "\n",
        "    val_loss = 0.0\n",
        "    num_val_batches = 0\n",
        "    for inputs, targets in val_dataset:\n",
        "        predictions = model(inputs, training=False)\n",
        "        loss = mape_loss(targets, predictions)\n",
        "        val_loss += loss\n",
        "        num_val_batches += 1\n",
        "    val_loss /= num_val_batches\n",
        "\n",
        "    val_losses.append(val_loss)\n",
        "\n",
        "    print(f'Epoch {epoch}: Train Loss: {train_loss:.5f}, Val Loss: {val_loss:.5f}')\n",
        "\n",
        "\n",
        "print(\"Training completed.\")\n",
        "print(\"Train Losses:\", train_losses)\n",
        "print(\"Validation Losses:\", val_losses)"
      ],
      "metadata": {
        "colab": {
          "base_uri": "https://localhost:8080/"
        },
        "id": "gAcOUiDzSn69",
        "outputId": "a03f07bd-f107-4631-87ad-fc07ee34c562"
      },
      "execution_count": null,
      "outputs": [
        {
          "output_type": "stream",
          "name": "stderr",
          "text": [
            "Epoch 1: 1676it [31:41,  1.13s/it]\n"
          ]
        }
      ]
    },
    {
      "cell_type": "code",
      "source": [],
      "metadata": {
        "id": "Azfoz7dSSqOj"
      },
      "execution_count": null,
      "outputs": []
    }
  ]
}